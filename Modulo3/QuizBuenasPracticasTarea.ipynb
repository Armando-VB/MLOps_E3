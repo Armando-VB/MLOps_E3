{
  "nbformat": 4,
  "nbformat_minor": 0,
  "metadata": {
    "colab": {
      "provenance": []
    },
    "kernelspec": {
      "name": "python3",
      "display_name": "Python 3"
    },
    "language_info": {
      "name": "python"
    }
  },
  "cells": [
    {
      "cell_type": "markdown",
      "source": [
        "## Quiz 1 - Clasificación de Imagenes\n",
        "\n",
        "¿Qué podría cambiar para hacer el código más limpio?"
      ],
      "metadata": {
        "id": "TzYfY-jVSnag"
      }
    },
    {
      "cell_type": "code",
      "execution_count": null,
      "metadata": {
        "id": "U8WC_o-ESaF4"
      },
      "outputs": [],
      "source": [
        "import time\n",
        "\n",
        "i = \"path_image\"\n",
        "\n",
        "t = end_time - start # calcula el tiempo de ejecucion\n",
        "c = classify(i) # obtiene la clase de la imagen\n",
        "print(\"La duracion fue de {} segundos. La clase es {}\" .format(t, c))"
      ]
    },
    {
      "cell_type": "markdown",
      "source": [
        "## Quiz 2 - Compra de criptomonedas\n",
        "\n",
        "¿Cuál es el código más limpio y por qué?\n"
      ],
      "metadata": {
        "id": "mRP9pGRBTc8i"
      }
    },
    {
      "cell_type": "code",
      "source": [
        "# Opcion A\n",
        "crypto_limit_prices = {'BTC': 44000, 'ETH': 31000, 'BNB': 410}\n",
        "for crypto_ticker, crypto_limit_price in buy_prices.items():\n",
        "    if crypto_limit_price <= get_current_crypto_price(ticker):\n",
        "        buy_crypto(ticker)\n",
        "    else:\n",
        "        watchlist_crypto(ticker)\n",
        "\n",
        "# Opcion B\n",
        "prices = {'BTC': 44000, 'ETH': 31000, 'BNB': 410}\n",
        "for ticker, price in prices.items():\n",
        "    if price <= current_price(ticker):\n",
        "        buy(ticker)\n",
        "    else:\n",
        "        watchlist(ticker)\n",
        "\n",
        "# Opcion C\n",
        "limit_prices = {'BTC': 44000, 'ETH': 31000, 'BNB': 410}\n",
        "for ticker, limit in limit_prices.items():\n",
        "    if limit <= get_current_price(ticker):\n",
        "        buy(ticker)\n",
        "    else:\n",
        "        watchlist(ticker)"
      ],
      "metadata": {
        "id": "Gn0pBOQOThbC"
      },
      "execution_count": null,
      "outputs": []
    },
    {
      "cell_type": "markdown",
      "source": [
        "## Quiz 3 - Renombrando Columnas\n",
        "\n",
        "¿Puede refactorizar este código para hacerlo más limpio y modular?"
      ],
      "metadata": {
        "id": "3BDMKZIlT-q-"
      }
    },
    {
      "cell_type": "code",
      "source": [
        "import pandas as pd\n",
        "df = pd.read_csv('/content/Absenteeism_at_work.csv', sep=';')\n",
        "df.head()"
      ],
      "metadata": {
        "id": "u44FjeTXURM0"
      },
      "execution_count": null,
      "outputs": []
    },
    {
      "cell_type": "code",
      "source": [
        "new_df = df.rename(columns={'ID': 'id',\n",
        "                            'Reason for absence': 'reason_for_absence',\n",
        "                            'Month of absence': 'month_of_absence',\n",
        "                            'Day of the week': 'day_of_the_week',\n",
        "                            'Seasons': 'seasons',\n",
        "                            'Transportation expense': 'transportation_expense',\n",
        "                            'Distance from Residence to Work': 'distance_from_residence_to_work',\n",
        "                            'Service time': 'service_time',\n",
        "                            'Age': 'age',\n",
        "                            'Work load Average/day ': 'work_load_average/day_',\n",
        "                            'Hit target': 'hit_target',\n",
        "                            'Disciplinary failure': 'disciplinary_failure',\n",
        "                            'Education': 'education',\n",
        "                            'Son': 'son',\n",
        "                            'Social drinker': 'social_drinker',\n",
        "                            'Social smoker': 'social_smoker',\n",
        "                            'Pet': 'pet',\n",
        "                            'Weight': 'weight',\n",
        "                            'Height': 'height',\n",
        "                            'Body mass index': 'body_mass_index',\n",
        "                            'Absenteeism time in hours': 'absenteeism_time_in_hours'\n",
        "                            })\n",
        "new_df.head()"
      ],
      "metadata": {
        "id": "-UgBdiTpUMUz"
      },
      "execution_count": null,
      "outputs": []
    },
    {
      "cell_type": "markdown",
      "source": [
        "Esta es otra forma un poco mejor que evita que se tengan problemas con letras o errores tipograficos."
      ],
      "metadata": {
        "id": "cn1-ET0dUVmV"
      }
    },
    {
      "cell_type": "code",
      "source": [
        "labels = list(df.columns)\n",
        "labels[0] = labels[0].replace(' ', '_').lower()\n",
        "labels[1] = labels[1].replace(' ', '_').lower()\n",
        "labels[2] = labels[2].replace(' ', '_').lower()\n",
        "labels[3] = labels[3].replace(' ', '_').lower()\n",
        "labels[5] = labels[5].replace(' ', '_').lower()\n",
        "labels[6] = labels[6].replace(' ', '_').lower()\n",
        "labels[7] = labels[7].replace(' ', '_').lower()\n",
        "labels[8] = labels[8].replace(' ', '_').lower()\n",
        "labels[9] = labels[9].replace(' ', '_').lower()\n",
        "labels[10] = labels[10].replace(' ', '_').lower()\n",
        "labels[11] = labels[11].replace(' ', '_').lower()\n",
        "labels[12] = labels[12].replace(' ', '_').lower()\n",
        "labels[13] = labels[13].replace(' ', '_').lower()\n",
        "labels[14] = labels[14].replace(' ', '_').lower()\n",
        "labels[15] = labels[15].replace(' ', '_').lower()\n",
        "labels[16] = labels[16].replace(' ', '_').lower()\n",
        "labels[17] = labels[17].replace(' ', '_').lower()\n",
        "labels[18] = labels[18].replace(' ', '_').lower()\n",
        "labels[19] = labels[19].replace(' ', '_').lower()\n",
        "labels[20] = labels[20].replace(' ', '_').lower()\n",
        "\n",
        "df.columns = labels\n",
        "\n",
        "df.head()"
      ],
      "metadata": {
        "id": "QrsLJwb2UWSW"
      },
      "execution_count": null,
      "outputs": []
    }
  ]
}